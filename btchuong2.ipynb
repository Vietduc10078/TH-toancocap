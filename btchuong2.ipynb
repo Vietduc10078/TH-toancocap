{
  "nbformat": 4,
  "nbformat_minor": 0,
  "metadata": {
    "colab": {
      "name": "btchuong2.ipynb",
      "provenance": [],
      "authorship_tag": "ABX9TyPdfzReNS4gc5Ta1AsQlHGr",
      "include_colab_link": true
    },
    "kernelspec": {
      "name": "python3",
      "display_name": "Python 3"
    },
    "language_info": {
      "name": "python"
    }
  },
  "cells": [
    {
      "cell_type": "markdown",
      "metadata": {
        "id": "view-in-github",
        "colab_type": "text"
      },
      "source": [
        "<a href=\"https://colab.research.google.com/github/Vietduc10078/TH-toancocap/blob/main/btchuong2.ipynb\" target=\"_parent\"><img src=\"https://colab.research.google.com/assets/colab-badge.svg\" alt=\"Open In Colab\"/></a>"
      ]
    },
    {
      "cell_type": "markdown",
      "source": [
        "bai1\n"
      ],
      "metadata": {
        "id": "Br3fcoqOON-K"
      }
    },
    {
      "cell_type": "code",
      "source": [
        "chuoi = \" a*b + 2*c\"\n",
        "a = 2\n",
        "b = 5\n",
        "c= 10\n",
        "eval(chuoi)"
      ],
      "metadata": {
        "colab": {
          "base_uri": "https://localhost:8080/"
        },
        "id": "CgNiAZcTOQ8a",
        "outputId": "e0e18799-abc5-4e4e-e660-62169f37d719"
      },
      "execution_count": 3,
      "outputs": [
        {
          "output_type": "execute_result",
          "data": {
            "text/plain": [
              "30"
            ]
          },
          "metadata": {},
          "execution_count": 3
        }
      ]
    },
    {
      "cell_type": "markdown",
      "source": [
        "bai 2a"
      ],
      "metadata": {
        "id": "x-WmDNWtObSz"
      }
    },
    {
      "cell_type": "code",
      "source": [
        "from sympy import Symbol\n",
        "x = Symbol ('x ')\n",
        "y = Symbol ('y')\n",
        "bieuthuc = x +y \n",
        "theso = bieuthuc.subs({x: 5, y: 10 })\n",
        "theso"
      ],
      "metadata": {
        "colab": {
          "base_uri": "https://localhost:8080/",
          "height": 37
        },
        "id": "smA4RH7EOcjb",
        "outputId": "4580362b-bd65-43d6-ebdb-81ce4f99132b"
      },
      "execution_count": 4,
      "outputs": [
        {
          "output_type": "execute_result",
          "data": {
            "text/latex": "$\\displaystyle 15$",
            "text/plain": [
              "15"
            ]
          },
          "metadata": {},
          "execution_count": 4
        }
      ]
    },
    {
      "cell_type": "markdown",
      "source": [
        "b:"
      ],
      "metadata": {
        "id": "iUdwfZBfOt0s"
      }
    },
    {
      "cell_type": "code",
      "source": [
        "u = Symbol ('u')\n",
        "v = Symbol (' v')\n",
        "bieuthuc_uv = bieuthuc.subs({x:u,y:v})\n",
        "bieuthuc_uv"
      ],
      "metadata": {
        "colab": {
          "base_uri": "https://localhost:8080/",
          "height": 38
        },
        "id": "Pt5nZ4vtOuwr",
        "outputId": "291fecbb-230a-44dd-80e4-9cb4fa889937"
      },
      "execution_count": 5,
      "outputs": [
        {
          "output_type": "execute_result",
          "data": {
            "text/latex": "$\\displaystyle  v + u$",
            "text/plain": [
              " v + u"
            ]
          },
          "metadata": {},
          "execution_count": 5
        }
      ]
    },
    {
      "cell_type": "markdown",
      "source": [
        "c:"
      ],
      "metadata": {
        "id": "rm1fQzP2O3j7"
      }
    },
    {
      "cell_type": "code",
      "source": [
        "tinhtoan=bieuthuc.subs({x: 2*u*v, y: u*v**2})\n",
        "tinhtoan"
      ],
      "metadata": {
        "colab": {
          "base_uri": "https://localhost:8080/",
          "height": 38
        },
        "id": "aSTfgWPvO4pX",
        "outputId": "50b25b1a-a3d0-4266-bd21-8412bf0b2a64"
      },
      "execution_count": 6,
      "outputs": [
        {
          "output_type": "execute_result",
          "data": {
            "text/latex": "$\\displaystyle  v^{2} u + 2  v u$",
            "text/plain": [
              " v**2*u + 2* v*u"
            ]
          },
          "metadata": {},
          "execution_count": 6
        }
      ]
    },
    {
      "cell_type": "markdown",
      "source": [
        "d:"
      ],
      "metadata": {
        "id": "3r8nyUwDO_Vj"
      }
    },
    {
      "cell_type": "code",
      "source": [
        "from sympy import Symbol \n",
        "x = Symbol ('x')\n",
        "y = Symbol ('y')\n",
        "bieuthuc= x + y\n",
        "bieuthuc1= x**2 + y**2 \n",
        "u = Symbol ('u')\n",
        "v = Symbol('v')\n",
        "a = Symbol ('a')\n",
        "from sympy import sin, cos\n",
        "bieuthuc_uv = bieuthuc1.subs({x: a*sin(u), y: a*cos(u)})\n",
        "bieuthuc_uv"
      ],
      "metadata": {
        "colab": {
          "base_uri": "https://localhost:8080/",
          "height": 38
        },
        "id": "Pbjm5o7cPArb",
        "outputId": "6fec6e86-03b5-4af7-9e27-64a6dab55e4b"
      },
      "execution_count": 7,
      "outputs": [
        {
          "output_type": "execute_result",
          "data": {
            "text/latex": "$\\displaystyle a^{2} \\sin^{2}{\\left(u \\right)} + a^{2} \\cos^{2}{\\left(u \\right)}$",
            "text/plain": [
              "a**2*sin(u)**2 + a**2*cos(u)**2"
            ]
          },
          "metadata": {},
          "execution_count": 7
        }
      ]
    },
    {
      "cell_type": "markdown",
      "source": [
        "bai 3"
      ],
      "metadata": {
        "id": "nPdEL1UiPGbr"
      }
    },
    {
      "cell_type": "code",
      "source": [
        "danhsach  = [ 1,2,3,4,5]\n",
        "danhsach[ 1 ]"
      ],
      "metadata": {
        "colab": {
          "base_uri": "https://localhost:8080/"
        },
        "id": "B7I2xKqgPkfy",
        "outputId": "6508953a-6375-40be-f340-9bd9f2573693"
      },
      "execution_count": 8,
      "outputs": [
        {
          "output_type": "execute_result",
          "data": {
            "text/plain": [
              "2"
            ]
          },
          "metadata": {},
          "execution_count": 8
        }
      ]
    },
    {
      "cell_type": "code",
      "source": [
        "danhsach.append(10 )\n",
        "danhsach"
      ],
      "metadata": {
        "colab": {
          "base_uri": "https://localhost:8080/"
        },
        "id": "_UaZn2u4Pqhi",
        "outputId": "ce776e8e-ebb7-4d28-8375-4453e4f80aff"
      },
      "execution_count": 9,
      "outputs": [
        {
          "output_type": "execute_result",
          "data": {
            "text/plain": [
              "[1, 2, 3, 4, 5, 10]"
            ]
          },
          "metadata": {},
          "execution_count": 9
        }
      ]
    },
    {
      "cell_type": "code",
      "source": [
        "danhsach.insert(0,15 )\n",
        "danhsach"
      ],
      "metadata": {
        "colab": {
          "base_uri": "https://localhost:8080/"
        },
        "id": "dkTO2vOfPv6K",
        "outputId": "30600456-0f2e-4727-ce31-e97ecba503b2"
      },
      "execution_count": 10,
      "outputs": [
        {
          "output_type": "execute_result",
          "data": {
            "text/plain": [
              "[15, 1, 2, 3, 4, 5, 10]"
            ]
          },
          "metadata": {},
          "execution_count": 10
        }
      ]
    },
    {
      "cell_type": "code",
      "source": [
        "danhsach.pop(0 )\n",
        "danhsach"
      ],
      "metadata": {
        "id": "IKiPhQQeP1st"
      },
      "execution_count": null,
      "outputs": []
    },
    {
      "cell_type": "markdown",
      "source": [
        "bai 4"
      ],
      "metadata": {
        "id": "GRst0RP6P4Nt"
      }
    },
    {
      "cell_type": "code",
      "source": [
        "danhsach=[5,10,15,11,2020]\n",
        "for ch in danhsach:\n",
        "  print(ch )"
      ],
      "metadata": {
        "colab": {
          "base_uri": "https://localhost:8080/"
        },
        "id": "422A5dk9P5c6",
        "outputId": "33d349ed-73c3-4e96-f2ba-a2ca546b7bb3"
      },
      "execution_count": 11,
      "outputs": [
        {
          "output_type": "stream",
          "name": "stdout",
          "text": [
            "5\n",
            "10\n",
            "15\n",
            "11\n",
            "2020\n"
          ]
        }
      ]
    },
    {
      "cell_type": "code",
      "source": [
        "for chiso, giatri in enumerate ('danhsach'):\n",
        "  print(chiso,':', giatri )"
      ],
      "metadata": {
        "colab": {
          "base_uri": "https://localhost:8080/"
        },
        "id": "otfPqpS5QCkk",
        "outputId": "c6b6f180-d3f0-4162-d4f3-33e406d233e3"
      },
      "execution_count": 12,
      "outputs": [
        {
          "output_type": "stream",
          "name": "stdout",
          "text": [
            "0 : d\n",
            "1 : a\n",
            "2 : n\n",
            "3 : h\n",
            "4 : s\n",
            "5 : a\n",
            "6 : c\n",
            "7 : h\n"
          ]
        }
      ]
    },
    {
      "cell_type": "markdown",
      "source": [
        "bai 5"
      ],
      "metadata": {
        "id": "Mzy3eSDEQEJK"
      }
    },
    {
      "cell_type": "code",
      "source": [
        "giatri_x = [ 2,4,6,8 ]\n",
        "giatri_y = [1, 5, 7, 9]\n",
        "from pylab import plot, show\n",
        "plot(giatri_x , giatri_y )\n",
        "show( )"
      ],
      "metadata": {
        "colab": {
          "base_uri": "https://localhost:8080/",
          "height": 265
        },
        "id": "6zWR8kTZQGMU",
        "outputId": "0d02a4f6-16e9-47a6-fa5d-b8dd664add96"
      },
      "execution_count": 13,
      "outputs": [
        {
          "output_type": "display_data",
          "data": {
            "image/png": "[encoded data removed]",
            "text/plain": [
              "<Figure size 432x288 with 1 Axes>"
            ]
          },
          "metadata": {
            "needs_background": "light"
          }
        }
      ]
    },
    {
      "cell_type": "markdown",
      "source": [
        "bai 6"
      ],
      "metadata": {
        "id": "GAJg3ICKQLaS"
      }
    },
    {
      "cell_type": "code",
      "source": [
        "giatri_x = [ 2,4,6,8 ]\n",
        "giatri_y = [1, 5, 7, 9]\n",
        "from pylab import plot, show \n",
        "plot (giatri_x , giatri_y, marker='o')"
      ],
      "metadata": {
        "colab": {
          "base_uri": "https://localhost:8080/",
          "height": 282
        },
        "id": "FKAhq-VXQPIc",
        "outputId": "45caca1d-7e5c-45d3-fb87-b84c044e3209"
      },
      "execution_count": 14,
      "outputs": [
        {
          "output_type": "execute_result",
          "data": {
            "text/plain": [
              "[<matplotlib.lines.Line2D at 0x7f4c68f8a650>]"
            ]
          },
          "metadata": {},
          "execution_count": 14
        },
        {
          "output_type": "display_data",
          "data": {
            "image/png": "[encoded data removed]",
            "text/plain": [
              "<Figure size 432x288 with 1 Axes>"
            ]
          },
          "metadata": {
            "needs_background": "light"
          }
        }
      ]
    }
  ]
}