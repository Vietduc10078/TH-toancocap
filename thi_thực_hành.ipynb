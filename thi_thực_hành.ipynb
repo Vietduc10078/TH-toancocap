{
  "nbformat": 4,
  "nbformat_minor": 0,
  "metadata": {
    "colab": {
      "name": "thi thực hành.ipynb",
      "provenance": [],
      "authorship_tag": "ABX9TyMqxO2aCbDuXjh/TUjkyr69",
      "include_colab_link": true
    },
    "kernelspec": {
      "name": "python3",
      "display_name": "Python 3"
    },
    "language_info": {
      "name": "python"
    }
  },
  "cells": [
    {
      "cell_type": "markdown",
      "metadata": {
        "id": "view-in-github",
        "colab_type": "text"
      },
      "source": [
        "<a href=\"https://colab.research.google.com/github/Vietduc10078/TH-toancocap/blob/main/thi_th%E1%BB%B1c_h%C3%A0nh.ipynb\" target=\"_parent\"><img src=\"https://colab.research.google.com/assets/colab-badge.svg\" alt=\"Open In Colab\"/></a>"
      ]
    },
    {
      "cell_type": "code",
      "execution_count": null,
      "metadata": {
        "id": "BcHhEmMAVBlh"
      },
      "outputs": [],
      "source": [
        "bài 1:\n"
      ]
    },
    {
      "cell_type": "code",
      "source": [
        "I="
      ],
      "metadata": {
        "id": "P9dXDlynbeBO"
      },
      "execution_count": null,
      "outputs": []
    }
  ]
}